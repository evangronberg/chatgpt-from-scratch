{
 "cells": [
  {
   "cell_type": "code",
   "execution_count": null,
   "metadata": {},
   "outputs": [],
   "source": [
    "import csv\n",
    "import pandas as pd\n",
    "from tqdm import tqdm\n",
    "from datasets import load_dataset\n",
    "from peft import get_peft_model, LoraConfig\n",
    "from transformers import (\n",
    "    GPT2LMHeadModel, GPT2Tokenizer, Trainer,\n",
    "    TrainingArguments, DataCollatorForLanguageModeling\n",
    ")"
   ]
  },
  {
   "cell_type": "code",
   "execution_count": null,
   "metadata": {},
   "outputs": [],
   "source": [
    "bible_text_dataset = load_dataset('text', data_files={'train': 'asv.txt'})\n",
    "bible_text_dataset"
   ]
  },
  {
   "cell_type": "code",
   "execution_count": null,
   "metadata": {},
   "outputs": [],
   "source": [
    "bible_text_dataset['train'][3000]['text']"
   ]
  },
  {
   "cell_type": "code",
   "execution_count": null,
   "metadata": {},
   "outputs": [],
   "source": [
    "bible_qa_pairs = {\n",
    "    'questions': [],\n",
    "    'answers': []\n",
    "}\n",
    "with open('./BibleQA/data/bible_qa/1001.csv.csv') as bible_qa_pairs_csv_file:\n",
    "    bible_qa_csv_file_reader = csv.reader(bible_qa_pairs_csv_file, delimiter='\\t')\n",
    "    header = next(bible_qa_csv_file_reader)\n",
    "    for row in bible_qa_csv_file_reader:\n",
    "        if row:\n",
    "            bible_qa_pairs['questions'].append(\n",
    "                ''.join(row[0].split('. ')[1:]))\n",
    "            bible_qa_pairs['answers'].append(\n",
    "                ''.join(''.join(row[1].split('. ')[1:]).split(' (')[:1]))\n",
    "bible_qa_pairs_df = pd.DataFrame(bible_qa_pairs)\n",
    "bible_qa_pairs_df.head()"
   ]
  },
  {
   "cell_type": "code",
   "execution_count": null,
   "metadata": {},
   "outputs": [],
   "source": [
    "model_name = 'gpt2'\n",
    "pretrained_model = GPT2LMHeadModel.from_pretrained(model_name)\n",
    "fine_tuned_model = GPT2LMHeadModel.from_pretrained(model_name)\n",
    "peft_model = GPT2LMHeadModel.from_pretrained(model_name)\n",
    "tokenizer = GPT2Tokenizer.from_pretrained(model_name)\n",
    "tokenizer.pad_token = tokenizer.eos_token"
   ]
  },
  {
   "cell_type": "code",
   "execution_count": null,
   "metadata": {},
   "outputs": [],
   "source": [
    "def tokenize_bible_text(examples):\n",
    "    return tokenizer(\n",
    "        examples['text'], truncation=True,\n",
    "        padding='max_length', max_length=512\n",
    "    )\n",
    "tokenized_bible_text = bible_text_dataset.map(\n",
    "    tokenize_bible_text, batched=True\n",
    ")"
   ]
  },
  {
   "cell_type": "code",
   "execution_count": null,
   "metadata": {},
   "outputs": [],
   "source": [
    "def tokenize_bible_text(examples):\n",
    "    return tokenizer(\n",
    "        examples['text'], truncation=True,\n",
    "        padding='max_length', max_length=512\n",
    "    )\n",
    "tokenized_bible_text = bible_text_dataset.map(\n",
    "    tokenize_bible_text, batched=True\n",
    ")"
   ]
  },
  {
   "cell_type": "code",
   "execution_count": null,
   "metadata": {},
   "outputs": [],
   "source": [
    "data_collator = DataCollatorForLanguageModeling(\n",
    "    tokenizer=tokenizer,\n",
    "    mlm=False\n",
    ")\n",
    "training_args = TrainingArguments(\n",
    "    output_dir='./results',\n",
    "    overwrite_output_dir=True,\n",
    "    num_train_epochs=1,\n",
    "    per_device_train_batch_size=4,\n",
    "    save_steps=10_000,\n",
    "    save_total_limit=2\n",
    ")\n",
    "trainer = Trainer(\n",
    "    model=fine_tuned_model,\n",
    "    args=training_args,\n",
    "    train_dataset=tokenized_bible_text['train'],\n",
    "    data_collator=data_collator\n",
    ")\n",
    "trainer.train()"
   ]
  },
  {
   "cell_type": "code",
   "execution_count": null,
   "metadata": {},
   "outputs": [],
   "source": [
    "lora_config = LoraConfig(\n",
    "    r=16,\n",
    "    lora_alpha=32,\n",
    "    target_modules=['c_attn', 'c_proj'],\n",
    "    lora_dropout=0.1,\n",
    "    bias='none'\n",
    ")\n",
    "peft_model = get_peft_model(peft_model, lora_config)\n",
    "\n",
    "trainer.model = peft_model\n",
    "trainer.train()"
   ]
  },
  {
   "cell_type": "code",
   "execution_count": null,
   "metadata": {},
   "outputs": [],
   "source": [
    "def generate_answer(model: GPT2LMHeadModel, question: str) -> str:\n",
    "    if not question.strip():\n",
    "        return ''\n",
    "    input_tokens = tokenizer.encode(\n",
    "        question,\n",
    "        return_tensors='pt'\n",
    "    ).to(model.device)\n",
    "    attention_mask = input_tokens.ne(\n",
    "        tokenizer.pad_token_id\n",
    "    ).to(model.device)\n",
    "    model_output = model.generate(\n",
    "        input_tokens,\n",
    "        max_length=50,\n",
    "        num_return_sequences=1,\n",
    "        pad_token_id=tokenizer.eos_token_id,\n",
    "        attention_mask=attention_mask\n",
    "    )\n",
    "    answer = tokenizer.decode(\n",
    "        model_output[0],\n",
    "        skip_special_tokens=True\n",
    "    )\n",
    "    return answer"
   ]
  },
  {
   "cell_type": "code",
   "execution_count": null,
   "metadata": {},
   "outputs": [],
   "source": [
    "pretrained_model_answers = []\n",
    "fine_tuned_model_answers = []\n",
    "peft_model_answers = []\n",
    "for question in tqdm(bible_qa_pairs_df['questions']):\n",
    "    pretrained_model_answers.append(\n",
    "        generate_answer(pretrained_model, question))\n",
    "    fine_tuned_model_answers.append(\n",
    "        generate_answer(fine_tuned_model, question))\n",
    "    peft_model_answers.append(\n",
    "        generate_answer(peft_model, question))\n",
    "\n",
    "bible_qa_pairs_df['pretrained_model_answers'] = pretrained_model_answers\n",
    "bible_qa_pairs_df['fine_tuned_model_answers'] = fine_tuned_model_answers\n",
    "bible_qa_pairs_df['peft_model_answers'] = peft_model_answers\n",
    "\n",
    "bible_qa_pairs_df.head()"
   ]
  }
 ],
 "metadata": {
  "kernelspec": {
   "display_name": "Python 3.11.0 ('.venv': venv)",
   "language": "python",
   "name": "python3"
  },
  "language_info": {
   "codemirror_mode": {
    "name": "ipython",
    "version": 3
   },
   "file_extension": ".py",
   "mimetype": "text/x-python",
   "name": "python",
   "nbconvert_exporter": "python",
   "pygments_lexer": "ipython3",
   "version": "3.11.0"
  },
  "orig_nbformat": 4,
  "vscode": {
   "interpreter": {
    "hash": "2123db3b0932a2e6af01372cbcc7e858ce286af9fd12f86cde0792bfd3babaf3"
   }
  }
 },
 "nbformat": 4,
 "nbformat_minor": 2
}
